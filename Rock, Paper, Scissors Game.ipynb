{
 "cells": [
  {
   "cell_type": "code",
   "execution_count": null,
   "id": "circular-sampling",
   "metadata": {},
   "outputs": [],
   "source": [
    "import numpy as np\n",
    "import os, os.path\n",
    "from keras.preprocessing import image\n",
    "import keras\n",
    "from tensorflow.keras.optimizers import SGD\n",
    "import tensorflow as tf\n",
    "from sklearn.metrics import confusion_matrix\n",
    "import matplotlib.pyplot as plt\n",
    "import seaborn as sns\n",
    "import random\n",
    "from sklearn.metrics import classification_report\n",
    "import warnings\n",
    "warnings.simplefilter(action=\"ignore\", category=FutureWarning)"
   ]
  },
  {
   "cell_type": "markdown",
   "id": "tested-transportation",
   "metadata": {},
   "source": [
    "# Preparing the Training and Testing Dataset"
   ]
  },
  {
   "cell_type": "code",
   "execution_count": null,
   "id": "finnish-juvenile",
   "metadata": {},
   "outputs": [],
   "source": [
    "labels = ['paper', 'rock', 'scissors']"
   ]
  },
  {
   "cell_type": "code",
   "execution_count": null,
   "id": "growing-gauge",
   "metadata": {},
   "outputs": [],
   "source": [
    "#Inputting the path where Training images are stored\n",
    "path = input(\"Enter the path where your training images are stored: \")"
   ]
  },
  {
   "cell_type": "code",
   "execution_count": null,
   "id": "advance-religious",
   "metadata": {},
   "outputs": [],
   "source": [
    "#Creating a training dataset\n",
    "Images = []\n",
    "for label in labels:\n",
    "    Path = os.path.join(path, label)\n",
    "    Class = labels.index(label)\n",
    "    for img in os.listdir(Path):\n",
    "        Image = image.load_img(os.path.join(Path, img), target_size=(300,200,3)) #Importing the image\n",
    "        Image = image.img_to_array(Image) #Converting the image into an array\n",
    "        Image = Image/255.0 #Normalizing the image\n",
    "        Images.append([Image, Class])\n",
    "Training_Data = np.array(Images, dtype=object)      "
   ]
  },
  {
   "cell_type": "code",
   "execution_count": null,
   "id": "modern-machine",
   "metadata": {},
   "outputs": [],
   "source": [
    "TrainingImages = []\n",
    "for i in Training_Data:\n",
    "    if(i[1] == 0):\n",
    "        TrainingImages.append(\"Paper\")\n",
    "    elif (i[1] == 1):\n",
    "        TrainingImages.append(\"Rock\")\n",
    "    else:\n",
    "        TrainingImages.append(\"Scissors\")\n",
    "sns.countplot(TrainingImages).set(title='Training Data')"
   ]
  },
  {
   "cell_type": "code",
   "execution_count": null,
   "id": "abroad-theta",
   "metadata": {},
   "outputs": [],
   "source": [
    "#Inputting the path where Testing images are stored\n",
    "path = input(\"Enter the path where your test images are stored: \")"
   ]
  },
  {
   "cell_type": "code",
   "execution_count": null,
   "id": "passing-bronze",
   "metadata": {},
   "outputs": [],
   "source": [
    "#Creating a testing dataset\n",
    "Images = []\n",
    "for label in labels:\n",
    "    Path = os.path.join(path, label)\n",
    "    Class = labels.index(label)\n",
    "    for img in os.listdir(Path):\n",
    "        Image = image.load_img(os.path.join(Path, img), target_size=(300,200,3)) #Importing the image\n",
    "        Image = image.img_to_array(Image) #Converting the images into an array\n",
    "        Image = Image/255.0 #Normalizing the image\n",
    "        Images.append([Image, Class])\n",
    "Testing_Data = np.array(Images, dtype=object)       "
   ]
  },
  {
   "cell_type": "code",
   "execution_count": null,
   "id": "subsequent-factory",
   "metadata": {},
   "outputs": [],
   "source": [
    "TestingImages = []\n",
    "for i in Testing_Data:\n",
    "    if(i[1] == 0):\n",
    "        TestingImages.append(\"Paper\")\n",
    "    elif (i[1] == 1):\n",
    "        TestingImages.append(\"Rock\")\n",
    "    else:\n",
    "        TestingImages.append(\"Scissors\")\n",
    "sns.countplot(TestingImages).set(title='Testing Data')"
   ]
  },
  {
   "cell_type": "code",
   "execution_count": null,
   "id": "authentic-clothing",
   "metadata": {},
   "outputs": [],
   "source": [
    "X_train = []\n",
    "Y_train = []\n",
    "X_test = []\n",
    "Y_test = []\n",
    "\n",
    "for feature, label in Training_Data:\n",
    "    X_train.append(feature)\n",
    "    Y_train.append(label)\n",
    "\n",
    "for feature, label in Testing_Data:\n",
    "    X_test.append(feature)\n",
    "    Y_test.append(label)\n",
    "\n",
    "X_train = np.array(X_train)\n",
    "X_test = np.array(X_test) \n",
    "Y_train = np.array(Y_train)\n",
    "Y_test = np.array(Y_test)"
   ]
  },
  {
   "cell_type": "code",
   "execution_count": null,
   "id": "israeli-milton",
   "metadata": {},
   "outputs": [],
   "source": [
    "#One hot encoding the target values for the training and testing set\n",
    "Y_train = tf.keras.utils.to_categorical(Y_train)\n",
    "Y_test = tf.keras.utils.to_categorical(Y_test)"
   ]
  },
  {
   "cell_type": "markdown",
   "id": "honest-freedom",
   "metadata": {},
   "source": [
    "# Building, Training and Testing the Model"
   ]
  },
  {
   "cell_type": "code",
   "execution_count": null,
   "id": "transsexual-armstrong",
   "metadata": {},
   "outputs": [],
   "source": [
    "#Defining the Model\n",
    "model = keras.models.Sequential()\n",
    "model.add(keras.layers.Conv2D(32, (7, 7), activation='relu', input_shape=(300, 200, 3)))\n",
    "model.add(keras.layers.MaxPooling2D((2, 2)))\n",
    "model.add(keras.layers.Conv2D(64, (7, 7), activation='relu'))\n",
    "model.add(keras.layers.MaxPooling2D((2, 2)))\n",
    "model.add(keras.layers.Flatten())\n",
    "model.add(keras.layers.Dense(100, activation='relu'))\n",
    "model.add(keras.layers.Dense(50, activation='relu'))\n",
    "model.add(keras.layers.Dense(3, activation=\"softmax\"))\n",
    "model.summary()"
   ]
  },
  {
   "cell_type": "code",
   "execution_count": null,
   "id": "naval-witness",
   "metadata": {},
   "outputs": [],
   "source": [
    "#Compliling the Model \n",
    "LR = 0.01\n",
    "opt = SGD(learning_rate=LR)\n",
    "model.compile(optimizer = opt,\n",
    "              loss='categorical_crossentropy',\n",
    "              metrics=['accuracy'])"
   ]
  },
  {
   "cell_type": "code",
   "execution_count": null,
   "id": "northern-principle",
   "metadata": {},
   "outputs": [],
   "source": [
    "#Training the Model\n",
    "history = model.fit(X_train, Y_train, epochs=9, shuffle=True, validation_data=(X_test, Y_test))"
   ]
  },
  {
   "cell_type": "code",
   "execution_count": null,
   "id": "further-canvas",
   "metadata": {},
   "outputs": [],
   "source": [
    "#Plotting the training accuracy and the validation accuracy for the Model\n",
    "plt.title('Training Accuracy and Test Accuracy')\n",
    "plt.xlabel('Epoch')\n",
    "plt.ylabel('Accuracy')\n",
    "plt.plot(history.history['accuracy'], color='red', label='Training Accuracy')\n",
    "plt.plot(history.history['val_accuracy'], color='blue', label = 'Test Accuracy')\n",
    "plt.legend(loc='lower right')\n",
    "plt.show()"
   ]
  },
  {
   "cell_type": "code",
   "execution_count": null,
   "id": "controlling-spirit",
   "metadata": {},
   "outputs": [],
   "source": [
    "#Plotting the training loss and the validation loss for the Model\n",
    "plt.title('Training Loss and Test Loss')\n",
    "plt.xlabel('Epoch')\n",
    "plt.ylabel('Accuracy')\n",
    "plt.plot(history.history['loss'], color='red', label='Training Loss')\n",
    "plt.plot(history.history['val_loss'], color='blue', label = 'Test Loss')\n",
    "plt.legend(loc='upper right')\n",
    "plt.show()"
   ]
  },
  {
   "cell_type": "code",
   "execution_count": null,
   "id": "capital-white",
   "metadata": {},
   "outputs": [],
   "source": [
    "#Testing the Model \n",
    "loss, acc = model.evaluate(X_test, Y_test, verbose=0)\n",
    "acc = round(acc,3)\n",
    "print(\"Test Loss = \",round(loss,3))\n",
    "print(\"Test Accuracy = \",acc * 100.0,\"%\")"
   ]
  },
  {
   "cell_type": "code",
   "execution_count": null,
   "id": "completed-entity",
   "metadata": {},
   "outputs": [],
   "source": [
    "#Confusion Matrix for the Model\n",
    "Y_pred = model.predict(X_test) \n",
    "Y_pred = np.argmax(Y_pred, axis=1)\n",
    "Y_t = np.argmax(Y_test, axis=1)\n",
    "CM = confusion_matrix(Y_t, Y_pred)"
   ]
  },
  {
   "cell_type": "code",
   "execution_count": null,
   "id": "dense-pride",
   "metadata": {},
   "outputs": [],
   "source": [
    "#Plotting the Confuion Matrix for the Model\n",
    "plt.figure(figsize=(4,4))\n",
    "sns.heatmap(CM, annot=True, fmt=\".3f\", linewidths=.5, square = True, cmap = 'Blues');\n",
    "plt.ylabel('Actual label');\n",
    "plt.xlabel('Predicted label');\n",
    "all_sample_title = 'Accuracy Score: {0}'.format(acc*100.0)\n",
    "plt.title(all_sample_title, size = 16);"
   ]
  },
  {
   "cell_type": "code",
   "execution_count": null,
   "id": "retired-patient",
   "metadata": {},
   "outputs": [],
   "source": [
    "#Printing the classification report for the Model\n",
    "print(classification_report(Y_t, Y_pred))"
   ]
  },
  {
   "cell_type": "code",
   "execution_count": null,
   "id": "incident-crest",
   "metadata": {},
   "outputs": [],
   "source": [
    "#Testing accuracy for all the three classes for the Model\n",
    "acc = CM[0][0]/186\n",
    "acc = round(acc, 3)\n",
    "print(\"Test Accuracy for Class Paper = \", acc * 100,\"%\")\n",
    "acc = CM[1][1]/188\n",
    "acc = round(acc, 3)\n",
    "print(\"Test Accuracy for Class Rock = \", acc * 100,\"%\")\n",
    "acc = CM[2][2]/188\n",
    "acc = round(acc, 3)\n",
    "print(\"Test Accuracy for Class Scissors = \", acc * 100,\"%\")"
   ]
  },
  {
   "cell_type": "markdown",
   "id": "individual-answer",
   "metadata": {},
   "source": [
    "# Playing the Game"
   ]
  },
  {
   "cell_type": "code",
   "execution_count": null,
   "id": "bibliographic-shannon",
   "metadata": {},
   "outputs": [],
   "source": [
    "#Inputting the path where Validation images are stored\n",
    "path = input(\"Enter the path where your Validation images are stored: \")"
   ]
  },
  {
   "cell_type": "code",
   "execution_count": null,
   "id": "amber-beach",
   "metadata": {},
   "outputs": [],
   "source": [
    "def play_game():\n",
    "    player1 = int(input(\"Player 1, please enter your choice, press 0 for Paper, 1 for Rock or 2 for Scissors: \"))\n",
    "    if player1 == 0:\n",
    "        label1 = 'paper'\n",
    "        print(\"Player 1 picked Paper.\")\n",
    "    elif player1 == 1:\n",
    "        label1 = 'rock'\n",
    "        print(\"Player 1 picked Rock.\")\n",
    "    elif player1 == 2:\n",
    "        label1 = 'scissors'\n",
    "        print(\"Player 1 picked Scissors.\")\n",
    "    else:\n",
    "        raise Exception(\"Sorry wrong input, please press between 0, 1 or 2.\")\n",
    "    Path = os.path.join(path, label1)\n",
    "    r = random.randint(1,10) #Choosing a random integer between 1 and 10 for selecting an image \n",
    "    Image = image.load_img(os.path.join(Path, '{}.png'.format(r)), target_size=(300,200,3)) #Importing the image\n",
    "    plt.figure(figsize=(3,3))\n",
    "    plt.imshow(Image)\n",
    "    plt.show()\n",
    "    Image = image.img_to_array(Image) #Converting the image into an array\n",
    "    Image = Image.reshape(1, 300, 200, 3)\n",
    "    Image = Image/255.0 #Normalization\n",
    "    result1 = model.predict(Image) #Predicting the image\n",
    "    class1 = np.argmax(result1, axis = 1)\n",
    "    \n",
    "    \n",
    "    player2 = int(input(\"Player 2, please enter your choice, press 0 for Paper, 1 for Rock or 2 for Scissors: \"))\n",
    "    if player2 == 0:\n",
    "        label2 = 'paper'\n",
    "        print(\"Player 2 picked Paper.\")\n",
    "    elif player2 == 1:\n",
    "        label2 = 'rock'\n",
    "        print(\"Player 2 picked Rock.\")\n",
    "    elif player2 == 2:\n",
    "        label2 = 'scissors'\n",
    "        print(\"Player 2 picked Scissors.\")\n",
    "    else:\n",
    "        raise Exception(\"Sorry wrong input, please press between 0, 1 or 2.\")\n",
    "    Path = os.path.join(path, label2)\n",
    "    r = random.randint(1,10) #Choosing a random integer between 1 and 10 for selecting an image \n",
    "    Image = image.load_img(os.path.join(Path, '{}.png'.format(r)), target_size=(300,200,3)) #Importing the image\n",
    "    plt.figure(figsize=(3,3))\n",
    "    plt.imshow(Image)\n",
    "    plt.show()\n",
    "    Image = image.img_to_array(Image) #Converting the image into an array\n",
    "    Image = Image.reshape(1, 300, 200, 3)\n",
    "    Image = Image/255.0 #Normalization\n",
    "    result2 = model.predict(Image) #Predicting the image\n",
    "    class2 = np.argmax(result2, axis = 1)\n",
    "    \n",
    "    if (class1 == class2):\n",
    "        print(\"Game is a Draw.\")\n",
    "    elif (class1 == 0 and class2 == 1):\n",
    "        print(\"Player 1 Wins. Since, Paper beats Rock.\")\n",
    "    elif (class1 == 0 and class2 == 2):\n",
    "        print(\"Player 2 Wins. Since, Scissors beats Paper.\")\n",
    "    elif (class1 == 1 and class2 == 0):\n",
    "        print(\"Player 2 Wins. Since, Paper beats Rock.\")\n",
    "    elif (class1 == 1 and class2 == 2):\n",
    "        print(\"Player 1 Wins. Since, Rock beats Scissors.\")\n",
    "    elif (class1 == 2 and class2 == 0):\n",
    "        print(\"Player 1 Wins. Since, Scissors beats Paper.\")\n",
    "    elif (class1 == 2 and class2 == 1):\n",
    "        print(\"Player 2 Wins. Since, Rock beats Scissors\")\n",
    "    else:\n",
    "        print(\"Something is Wrong.\")"
   ]
  },
  {
   "cell_type": "markdown",
   "id": "accurate-linux",
   "metadata": {},
   "source": [
    "# Playing the game on the validation images"
   ]
  },
  {
   "cell_type": "code",
   "execution_count": null,
   "id": "virtual-shadow",
   "metadata": {},
   "outputs": [],
   "source": [
    "print(\"Game 1:\")\n",
    "play_game()"
   ]
  },
  {
   "cell_type": "code",
   "execution_count": null,
   "id": "accessible-ghana",
   "metadata": {},
   "outputs": [],
   "source": [
    "print(\"Game 2:\")\n",
    "play_game()"
   ]
  },
  {
   "cell_type": "code",
   "execution_count": null,
   "id": "promotional-playback",
   "metadata": {},
   "outputs": [],
   "source": [
    "print(\"Game 3:\")\n",
    "play_game()"
   ]
  },
  {
   "cell_type": "code",
   "execution_count": null,
   "id": "honest-cycle",
   "metadata": {},
   "outputs": [],
   "source": [
    "print(\"Game 4:\")\n",
    "play_game()"
   ]
  },
  {
   "cell_type": "code",
   "execution_count": null,
   "id": "radical-underwear",
   "metadata": {},
   "outputs": [],
   "source": [
    "print(\"Game 5:\")\n",
    "play_game()"
   ]
  },
  {
   "cell_type": "code",
   "execution_count": null,
   "id": "civilian-collins",
   "metadata": {},
   "outputs": [],
   "source": [
    "#Inputting the path where my own images are stored\n",
    "path = input(\"Enter the path where your own images are stored: \")"
   ]
  },
  {
   "cell_type": "markdown",
   "id": "thorough-shaft",
   "metadata": {},
   "source": [
    "# Playing the game on my own images"
   ]
  },
  {
   "cell_type": "code",
   "execution_count": null,
   "id": "logical-coordinator",
   "metadata": {},
   "outputs": [],
   "source": [
    "print(\"Game 1:\")\n",
    "play_game()"
   ]
  },
  {
   "cell_type": "code",
   "execution_count": null,
   "id": "continued-mustang",
   "metadata": {},
   "outputs": [],
   "source": [
    "print(\"Game 2:\")\n",
    "play_game()"
   ]
  },
  {
   "cell_type": "code",
   "execution_count": null,
   "id": "several-europe",
   "metadata": {},
   "outputs": [],
   "source": [
    "print(\"Game 3:\")\n",
    "play_game()"
   ]
  },
  {
   "cell_type": "code",
   "execution_count": null,
   "id": "instant-empire",
   "metadata": {},
   "outputs": [],
   "source": [
    "print(\"Game 4:\")\n",
    "play_game()"
   ]
  },
  {
   "cell_type": "code",
   "execution_count": null,
   "id": "imported-coalition",
   "metadata": {},
   "outputs": [],
   "source": [
    "print(\"Game 5:\")\n",
    "play_game()"
   ]
  }
 ],
 "metadata": {
  "kernelspec": {
   "display_name": "Python 3",
   "language": "python",
   "name": "python3"
  },
  "language_info": {
   "codemirror_mode": {
    "name": "ipython",
    "version": 3
   },
   "file_extension": ".py",
   "mimetype": "text/x-python",
   "name": "python",
   "nbconvert_exporter": "python",
   "pygments_lexer": "ipython3",
   "version": "3.9.1"
  }
 },
 "nbformat": 4,
 "nbformat_minor": 5
}
